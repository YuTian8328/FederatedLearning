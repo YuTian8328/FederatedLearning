{
 "cells": [
  {
   "cell_type": "markdown",
   "metadata": {},
   "source": [
    "# Chain Graph with two clusters"
   ]
  },
  {
   "cell_type": "markdown",
   "metadata": {},
   "source": [
    "This chain graph has two clusters $|C_1| = |C_2| = 100$.\n",
    "Each node $i \\in V$ represents a local dataset consisting of feature vectors $x^{(i,1)}, ... , x^{(i,5)} \\in R^10$.\n",
    "The feature vectors are i.i.d. realizations of a standard Gaussian random vector x ~ N(0,I).\n",
    "The labels $y_1^{(i)}, . . . , y_5^{(i)} \\in R$ for each node $i \\in V$ are \n",
    "generated according to the linear model $y_r^{(i)} = (x^{(i, r)})^T w^{(i)} + \\epsilon$, with $\\epsilon ∼ N(0,\\sigma)$. \n",
    "\n",
    "Intra-cluster edge weight equals 1. Inter-cluster edge weight eps is explored in this experiment."
   ]
  },
  {
   "cell_type": "code",
   "execution_count": 11,
   "metadata": {
    "id": "Gasoa4mq_K-J"
   },
   "outputs": [],
   "source": [
    "def get_chain_data(cluster_sizes, w_true, m=5, n=2, noise_sd=0, is_torch_model=True):\n",
    "    '''\n",
    "    :param W: a list containing the weight vectors for each cluster\n",
    "    :param m, n: shape of features vector for each node\n",
    "    :param pin: the probability of edges inside each cluster\n",
    "    :param pout: the probability of edges between the clusters\n",
    "    :param noise_sd: the standard deviation of the noise for calculating the labels\n",
    "    \n",
    "    :return B: adjacency matrix of the graph\n",
    "    :return weight_vec: a list containing the edges's weights of the graph\n",
    "    :return true_labels: a list containing the true labels of the nodes\n",
    "    :return datapoints: a dictionary containing the data of each node in the graph needed for the algorithm 1 \n",
    "    '''\n",
    "\n",
    "    N = np.sum(cluster_sizes)\n",
    "    E = N-1\n",
    "    '''\n",
    "    N: total number of nodes\n",
    "    E: total number of edges\n",
    "    '''\n",
    "    \n",
    "    \n",
    "    # create B(adjacency matrix) and edges's weights vector(weight_vec) based on the graph G\n",
    "    B = np.zeros((E, N))\n",
    "    '''\n",
    "    B: adjacency matrix of the graph with the shape of E*N\n",
    "    '''\n",
    "   \n",
    "    \n",
    "    cnt = 0\n",
    "    for i in range(E):\n",
    "        B[cnt, i] = 1\n",
    "        B[cnt, i+1] = -1\n",
    "\n",
    "        cnt += 1\n",
    "    B = B[:cnt, :]\n",
    "    \n",
    "    # create the data of each node needed for the algorithm 1 \n",
    "    \n",
    "    node_degrees = np.array((1.0 / (np.sum(abs(B), 0)))).ravel()\n",
    "    '''\n",
    "    node_degrees: a list containing the nodes degree for the alg1 (1/N_i)\n",
    "    '''\n",
    "    \n",
    "    datapoints = {}\n",
    "    '''\n",
    "    datapoints: a dictionary containing the data of each node in the graph needed for the algorithm 1,\n",
    "    which are features, label, degree, and also the optimizer model for each node\n",
    "    '''\n",
    "    true_labels = []\n",
    "    '''\n",
    "    true_labels: the true labels for the nodes of the graph\n",
    "    '''\n",
    "    \n",
    "    cnt = 0\n",
    "    for i, cluster_size in enumerate(cluster_sizes):\n",
    "        for j in range(cluster_size):\n",
    "            features = np.random.normal(loc=0.0, scale=1.0, size=(m, n))\n",
    "            '''\n",
    "            features: the feature vector of node i which are i.i.d. realizations of a standard Gaussian random vector x~N(0,I)\n",
    "            '''\n",
    "            label = np.dot(features, w_true[i]) + np.random.normal(0,noise_sd)\n",
    "            '''\n",
    "            label: the label of the node i that is generated according to the linear model y = x^T w + e\n",
    "            '''\n",
    "            \n",
    "            true_labels.append(label)\n",
    "\n",
    "           \n",
    "            \n",
    "            datapoints[cnt] = {\n",
    "                'features': features,\n",
    "                'degree': node_degrees[cnt],\n",
    "                'w': w_true[i],\n",
    "                'label': label\n",
    "            }\n",
    "            cnt += 1\n",
    "\n",
    "    return np.array(true_labels), datapoints\n"
   ]
  },
  {
   "cell_type": "code",
   "execution_count": 2,
   "metadata": {
    "id": "Uu_MZAI9-sqE"
   },
   "outputs": [],
   "source": [
    "import cvxpy as cp\n",
    "def run_cvxpy_chain(sampling_ratio=1,eps=0.1,penalty='norm1',lambda_lasso=1):\n",
    "    true_labels, datapoints = get_chain_data(cluster_sizes,w_true=w_true,n=10,noise_sd=0.01, is_torch_model=False)\n",
    "    num_nodes = sum(cluster_sizes)\n",
    "    w = []\n",
    "    for i in range(num_nodes):\n",
    "        w += [cp.Variable(10)]\n",
    "\n",
    "    obj = 0\n",
    "    tv = 0\n",
    "    if penalty=='norm1':\n",
    "        for i in range(num_nodes-1):\n",
    "            if i == cluster_sizes[0]-1:\n",
    "                tv += eps*cp.norm(w[i]-w[i+1],1)\n",
    "            else:\n",
    "                tv += cp.norm(w[i]-w[i+1],1)\n",
    "    elif penalty=='norm2':\n",
    "        for i in range(num_nodes-1):\n",
    "            if i == cluster_sizes[0]-1:\n",
    "                tv += eps*cp.norm(w[i]-w[i+1],2)\n",
    "            else:\n",
    "                tv += cp.norm(w[i]-w[i+1],2)  \n",
    "    elif penalty=='mocha':\n",
    "        for i in range(num_nodes-1):\n",
    "            if i == cluster_sizes[0]-1:\n",
    "                tv += eps*cp.norm(w[i]-w[i+1],2)**2\n",
    "            else:\n",
    "                tv += cp.norm(w[i]-w[i+1],2)**2\n",
    "   \n",
    "    obj+=lambda_lasso*tv\n",
    " \n",
    "    N = sum(cluster_sizes)\n",
    "    samplingset = random.sample([i for i in range(N)], k=int(sampling_ratio * N))\n",
    "    for i in samplingset:\n",
    "        features = datapoints[i]['features']\n",
    "        label = datapoints[i]['label']\n",
    "        obj += cp.norm(cp.matmul(features, w[i])-label,2)\n",
    "    obj = cp.Minimize(obj)\n",
    "    prob = cp.Problem(obj)\n",
    "\n",
    "    prob.solve()\n",
    "     \n",
    "    learned_w = []\n",
    "    for v in prob.variables():\n",
    "    #     print(type(variable.value))\n",
    "        learned_w.append((v.value))\n",
    "    learned_w = np.array(learned_w)\n",
    "    \n",
    "    score = get_algorithm1_w_MSE(datapoints, learned_w, samplingset)\n",
    "    return [eps,penalty,score['total']]"
   ]
  },
  {
   "cell_type": "code",
   "execution_count": 9,
   "metadata": {
    "id": "vnFv143tCvmI"
   },
   "outputs": [],
   "source": [
    "class LinearModel:\n",
    "    def __init__(self, degree, features, label):\n",
    "        mtx1 = 2 * degree * np.dot(features.T, features).astype('float64')\n",
    "        mtx1 += 1 * np.eye(mtx1.shape[0])\n",
    "        mtx1_inv = np.linalg.inv(mtx1)\n",
    "\n",
    "        mtx2 = 2 * degree * np.dot(features.T, label).T\n",
    "\n",
    "        self.mtx1_inv = mtx1_inv\n",
    "        self.mtx2 = mtx2\n",
    "\n",
    "    def forward(self, x):\n",
    "        mtx2 = x + self.mtx2\n",
    "        mtx_inv = self.mtx1_inv\n",
    "\n",
    "        return np.dot(mtx_inv, mtx2)"
   ]
  },
  {
   "cell_type": "code",
   "execution_count": 14,
   "metadata": {
    "id": "DGIHt3cFDgWF"
   },
   "outputs": [],
   "source": [
    "def get_algorithm1_w_MSE(datapoints, predicted_w, samplingset):\n",
    "    '''\n",
    "    :param datapoints:  a dictionary containing the data of each node in the graph needed for the algorithm 1\n",
    "    :param predicted_w: the predicted weigh vectors for each node\n",
    "    :param samplingset: the sampling set for the algorithm 1\n",
    "\n",
    "    :return alg1_MSE: the MSE of the algorithm 1 for all the nodes, the samplingset and other nodes (test set)\n",
    "    '''\n",
    "    not_samplingset = [i for i in range(len(datapoints)) if i not in samplingset]\n",
    "\n",
    "    true_w = []\n",
    "    for i in range(len(datapoints)):\n",
    "        true_w.append(datapoints[i]['w'])\n",
    "\n",
    "    true_w = np.array(true_w)\n",
    "\n",
    "#     alg1_MSE = {'total': mean_squared_error(true_w, predicted_w),\n",
    "#                 'train': mean_squared_error(true_w[samplingset], predicted_w[samplingset]),\n",
    "#                 'test': mean_squared_error(true_w[not_samplingset], predicted_w[not_samplingset])}\n",
    "    \n",
    "    alg1_MSE = {'total': mean_squared_error(true_w, predicted_w),\n",
    "                'train': mean_squared_error(true_w[samplingset], predicted_w[samplingset])}\n",
    "\n",
    "    return alg1_MSE"
   ]
  },
  {
   "cell_type": "code",
   "execution_count": 16,
   "metadata": {
    "colab": {
     "base_uri": "https://localhost:8080/"
    },
    "id": "mZnqXWVW--SC",
    "outputId": "aef4267e-ab98-42a4-dc8b-ab32f88792d2"
   },
   "outputs": [
    {
     "data": {
      "text/plain": [
       "[0.1, 'norm1', 2.06526336223153e-05]"
      ]
     },
     "execution_count": 16,
     "metadata": {},
     "output_type": "execute_result"
    }
   ],
   "source": [
    "import numpy as np\n",
    "import random\n",
    "from sklearn.metrics import mean_squared_error\n",
    "\n",
    "\n",
    "W1 = np.array([2 for i in range(10)])\n",
    "'''\n",
    "W1: the weigh vector for the first cluster\n",
    "'''\n",
    "W2 = np.array([-2 for i in range(5)]+[2 for i in range(5)])\n",
    "\n",
    "w_true =[W1,W2]\n",
    "cluster_sizes = [100,100]\n",
    "run_cvxpy_chain(sampling_ratio=1,eps=0.1,penalty='norm1',lambda_lasso=0.1)"
   ]
  },
  {
   "cell_type": "code",
   "execution_count": 19,
   "metadata": {
    "id": "IvBcjL-l_JN5"
   },
   "outputs": [],
   "source": [
    "from joblib import Parallel, delayed\n",
    "import multiprocessing\n",
    "import csv"
   ]
  },
  {
   "cell_type": "code",
   "execution_count": 20,
   "metadata": {
    "colab": {
     "base_uri": "https://localhost:8080/"
    },
    "id": "KMH35_MI--jF",
    "outputId": "ac472838-1504-4269-d98c-859ba3f8acad"
   },
   "outputs": [
    {
     "name": "stderr",
     "output_type": "stream",
     "text": [
      "/usr/local/lib/python3.7/dist-packages/cvxpy/problems/problem.py:1338: UserWarning: Solution may be inaccurate. Try another solver, adjusting the solver settings, or solve with verbose=True for more information.\n",
      "  \"Solution may be inaccurate. Try another solver, \"\n"
     ]
    }
   ],
   "source": [
    "# sampling_ratios = [1]\n",
    "PENALTY_FUNCS = ['norm1', 'norm2', 'mocha']\n",
    "cluster_sizes = [100,100]\n",
    "W1 = np.array([2 for i in range(10)])\n",
    "'''\n",
    "W1: the weigh vector for the first cluster\n",
    "'''\n",
    "W2 = np.array([-2 for i in range(5)]+[2 for i in range(5)])\n",
    "\n",
    "w_true =[W1,W2]\n",
    "epses = [0.1, 0.2, 0.3, 0.4, 0.5, 0.6, 0.7, 0.8, 0.9, 1.0,1.1,1.2]\n",
    "\n",
    "\n",
    "num_tries = 10\n",
    "# open the file in the write mode\n",
    "f = open('results.csv', 'w',newline='')\n",
    "\n",
    "# create the csv writer\n",
    "writer = csv.writer(f)\n",
    "header = [\"eps\",\"penalty\",\"score\"]\n",
    "# write a row to the csv file\n",
    "writer.writerow(header)\n",
    "\n",
    "\n",
    "\n",
    "results = Parallel(n_jobs=1)(delayed(run_cvxpy_chain)(sampling_ratio=1,eps=eps,penalty=p,lambda_lasso=0.1)\n",
    "                                             for eps in epses\n",
    "                                             for p in PENALTY_FUNCS\n",
    "                                             for t in range(num_tries))\n",
    "for result in results:\n",
    "    writer.writerow(result)\n",
    "f.close()"
   ]
  },
  {
   "cell_type": "code",
   "execution_count": 24,
   "metadata": {
    "id": "m8yhp5lUJ_Kt"
   },
   "outputs": [],
   "source": [
    "import pandas as pd\n",
    "import matplotlib.pyplot as plt\n",
    "\n",
    "\n",
    "df = pd.DataFrame(results, columns=[\"eps\",\"penalty\",\"score\"])"
   ]
  },
  {
   "cell_type": "code",
   "execution_count": 25,
   "metadata": {
    "colab": {
     "base_uri": "https://localhost:8080/",
     "height": 350
    },
    "id": "AvjQYZUYGV3l",
    "outputId": "e92d11e3-bc4b-4d00-db98-fb2a62baa0ef"
   },
   "outputs": [
    {
     "data": {
      "image/png": "[encoded data removed]",
      "text/plain": [
       "<Figure size 1296x360 with 3 Axes>"
      ]
     },
     "metadata": {
      "needs_background": "light"
     },
     "output_type": "display_data"
    }
   ],
   "source": [
    "PENALTY_FUNCS= ['norm1', 'norm2', 'mocha']\n",
    "# sampling_ratios = [0.2,0.4,0.6]\n",
    "epses = [0.1, 0.2, 0.3, 0.4, 0.5, 0.6, 0.7, 0.8, 0.9, 1.0,1.1,1.2]\n",
    "colors = ['steelblue', 'darkorange', 'green', 'brown']\n",
    "fig, axs = plt.subplots(1,3,figsize=(18,5))\n",
    "for i in range(3):\n",
    "        \n",
    "    df_ = df[df.penalty==PENALTY_FUNCS[i]].groupby(by = ['eps']).aggregate(['mean','std'])\n",
    "\n",
    "    axs[i].errorbar(df_.index, df_['score', 'mean'], yerr=df_['score', 'std'], \n",
    "                     capsize=3,\n",
    "                     label='sampling_ratio=1')\n",
    "    axs[i].legend(loc='best')\n",
    "    axs[i].set_title('MSE of learned w as a function of epsilon,'+PENALTY_FUNCS[i]+',CVXPY')\n",
    "    axs[i].set_xlabel('epsilon')\n",
    "    axs[i].set_ylabel('MSE')\n",
    "\n",
    "    axs[i].set_yscale('log')"
   ]
  }
 ],
 "metadata": {
  "colab": {
   "collapsed_sections": [],
   "provenance": []
  },
  "kernelspec": {
   "display_name": "Python 3 (ipykernel)",
   "language": "python",
   "name": "python3"
  },
  "language_info": {
   "codemirror_mode": {
    "name": "ipython",
    "version": 3
   },
   "file_extension": ".py",
   "mimetype": "text/x-python",
   "name": "python",
   "nbconvert_exporter": "python",
   "pygments_lexer": "ipython3",
   "version": "3.10.6"
  },
  "toc": {
   "base_numbering": 1,
   "nav_menu": {},
   "number_sections": true,
   "sideBar": true,
   "skip_h1_title": false,
   "title_cell": "Table of Contents",
   "title_sidebar": "Contents",
   "toc_cell": false,
   "toc_position": {},
   "toc_section_display": true,
   "toc_window_display": false
  }
 },
 "nbformat": 4,
 "nbformat_minor": 1
}
